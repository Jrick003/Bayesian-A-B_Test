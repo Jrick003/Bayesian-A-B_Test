{
 "cells": [
  {
   "cell_type": "markdown",
   "metadata": {},
   "source": [
    "## <span style = 'color: DodgerBlue'> Bayesian A/B Test"
   ]
  },
  {
   "cell_type": "markdown",
   "metadata": {},
   "source": [
    "Problem Description: Users are shown either a dummy ad or SmartAd interactive ad. Conduct an A/B Test to determine if the SmartAd increases the likelihood of selecting  yes on a questionaire"
   ]
  },
  {
   "cell_type": "code",
   "execution_count": 59,
   "metadata": {},
   "outputs": [],
   "source": [
    "import numpy as np\n",
    "import pandas as pd\n",
    "from scipy.stats import beta\n",
    "import matplotlib.pyplot as plt"
   ]
  },
  {
   "cell_type": "markdown",
   "metadata": {},
   "source": [
    "| Variable Name  | Description  |\n",
    "|----------------|--------------|\n",
    "| auction_id     | the unique id of the online user who has been presented the BIO. In standard          terminologies this is called an impression id. The user may see the BIO questionnaire but choose not to respond. In that case both the yes and no columns are zero |   \n",
    "| experiment     | which group the user belongs to - control or exposed. Control: users who have been shown a dummy ad. Exposed: users who have been shown a creative, an online interactive ad, with the SmartAd brand.   |  \n",
    "| date  | date in YYYY-MM-DD format  |  \n",
    "| hour  | hour of the day in HH format  |\n",
    "| device_make | name of the type of device the user has e.g. Samsung |\n",
    "| platform_os | id of the OS the user has |\n",
    "| browser     | name of the browser the user uses to see the BIO questionnaire|\n",
    "| yes         | 1 if the user chooses the “Yes” radio button for the BIO questionnair|\n",
    "| no          | summary                                                              |"
   ]
  },
  {
   "cell_type": "code",
   "execution_count": 60,
   "metadata": {},
   "outputs": [
    {
     "data": {
      "text/html": [
       "<div>\n",
       "<style scoped>\n",
       "    .dataframe tbody tr th:only-of-type {\n",
       "        vertical-align: middle;\n",
       "    }\n",
       "\n",
       "    .dataframe tbody tr th {\n",
       "        vertical-align: top;\n",
       "    }\n",
       "\n",
       "    .dataframe thead th {\n",
       "        text-align: right;\n",
       "    }\n",
       "</style>\n",
       "<table border=\"1\" class=\"dataframe\">\n",
       "  <thead>\n",
       "    <tr style=\"text-align: right;\">\n",
       "      <th></th>\n",
       "      <th>auction_id</th>\n",
       "      <th>experiment</th>\n",
       "      <th>date</th>\n",
       "      <th>hour</th>\n",
       "      <th>device_make</th>\n",
       "      <th>platform_os</th>\n",
       "      <th>browser</th>\n",
       "      <th>yes</th>\n",
       "      <th>no</th>\n",
       "    </tr>\n",
       "  </thead>\n",
       "  <tbody>\n",
       "    <tr>\n",
       "      <th>1569</th>\n",
       "      <td>340014d5-7517-4793-911f-f50bab340014</td>\n",
       "      <td>control</td>\n",
       "      <td>7/3/2020</td>\n",
       "      <td>15</td>\n",
       "      <td>Generic Smartphone</td>\n",
       "      <td>6</td>\n",
       "      <td>Chrome Mobile</td>\n",
       "      <td>0</td>\n",
       "      <td>0</td>\n",
       "    </tr>\n",
       "    <tr>\n",
       "      <th>4761</th>\n",
       "      <td>97debbf3-db24-45e8-a0f7-76816b03030b</td>\n",
       "      <td>exposed</td>\n",
       "      <td>7/4/2020</td>\n",
       "      <td>4</td>\n",
       "      <td>iPhone</td>\n",
       "      <td>5</td>\n",
       "      <td>Mobile Safari</td>\n",
       "      <td>0</td>\n",
       "      <td>0</td>\n",
       "    </tr>\n",
       "    <tr>\n",
       "      <th>6868</th>\n",
       "      <td>da204af8-c0b6-46aa-b114-e86c814b2d12</td>\n",
       "      <td>exposed</td>\n",
       "      <td>7/9/2020</td>\n",
       "      <td>23</td>\n",
       "      <td>Generic Smartphone</td>\n",
       "      <td>6</td>\n",
       "      <td>Chrome Mobile</td>\n",
       "      <td>0</td>\n",
       "      <td>0</td>\n",
       "    </tr>\n",
       "    <tr>\n",
       "      <th>7975</th>\n",
       "      <td>fc3f29c6-5204-4cf2-b418-608ff0ab1282</td>\n",
       "      <td>control</td>\n",
       "      <td>7/10/2020</td>\n",
       "      <td>12</td>\n",
       "      <td>Samsung SM-A520F</td>\n",
       "      <td>6</td>\n",
       "      <td>Chrome Mobile WebView</td>\n",
       "      <td>0</td>\n",
       "      <td>1</td>\n",
       "    </tr>\n",
       "    <tr>\n",
       "      <th>4565</th>\n",
       "      <td>91713b55-9066-4861-b290-7b2174c45bae</td>\n",
       "      <td>exposed</td>\n",
       "      <td>7/5/2020</td>\n",
       "      <td>4</td>\n",
       "      <td>Generic Smartphone</td>\n",
       "      <td>6</td>\n",
       "      <td>Chrome Mobile</td>\n",
       "      <td>0</td>\n",
       "      <td>1</td>\n",
       "    </tr>\n",
       "  </tbody>\n",
       "</table>\n",
       "</div>"
      ],
      "text/plain": [
       "                                auction_id experiment       date  hour  \\\n",
       "1569  340014d5-7517-4793-911f-f50bab340014    control   7/3/2020    15   \n",
       "4761  97debbf3-db24-45e8-a0f7-76816b03030b    exposed   7/4/2020     4   \n",
       "6868  da204af8-c0b6-46aa-b114-e86c814b2d12    exposed   7/9/2020    23   \n",
       "7975  fc3f29c6-5204-4cf2-b418-608ff0ab1282    control  7/10/2020    12   \n",
       "4565  91713b55-9066-4861-b290-7b2174c45bae    exposed   7/5/2020     4   \n",
       "\n",
       "             device_make  platform_os                browser  yes  no  \n",
       "1569  Generic Smartphone            6          Chrome Mobile    0   0  \n",
       "4761              iPhone            5          Mobile Safari    0   0  \n",
       "6868  Generic Smartphone            6          Chrome Mobile    0   0  \n",
       "7975    Samsung SM-A520F            6  Chrome Mobile WebView    0   1  \n",
       "4565  Generic Smartphone            6          Chrome Mobile    0   1  "
      ]
     },
     "execution_count": 60,
     "metadata": {},
     "output_type": "execute_result"
    }
   ],
   "source": [
    "df = pd.read_csv(\"C://Users//jrick//Documents//VS Code//Workinprogress//AdSmartABdata - AdSmartABdata.csv\")\n",
    "df.sample(5)"
   ]
  },
  {
   "cell_type": "code",
   "execution_count": 61,
   "metadata": {},
   "outputs": [
    {
     "data": {
      "text/plain": [
       "((8077, 9),\n",
       " auction_id     object\n",
       " experiment     object\n",
       " date           object\n",
       " hour            int64\n",
       " device_make    object\n",
       " platform_os     int64\n",
       " browser        object\n",
       " yes             int64\n",
       " no              int64\n",
       " dtype: object)"
      ]
     },
     "execution_count": 61,
     "metadata": {},
     "output_type": "execute_result"
    }
   ],
   "source": [
    "df.shape, df.dtypes  "
   ]
  },
  {
   "cell_type": "code",
   "execution_count": 62,
   "metadata": {},
   "outputs": [
    {
     "data": {
      "text/html": [
       "<div>\n",
       "<style scoped>\n",
       "    .dataframe tbody tr th:only-of-type {\n",
       "        vertical-align: middle;\n",
       "    }\n",
       "\n",
       "    .dataframe tbody tr th {\n",
       "        vertical-align: top;\n",
       "    }\n",
       "\n",
       "    .dataframe thead th {\n",
       "        text-align: right;\n",
       "    }\n",
       "</style>\n",
       "<table border=\"1\" class=\"dataframe\">\n",
       "  <thead>\n",
       "    <tr style=\"text-align: right;\">\n",
       "      <th></th>\n",
       "      <th>auction_id</th>\n",
       "      <th>experiment</th>\n",
       "      <th>date</th>\n",
       "      <th>hour</th>\n",
       "      <th>device_make</th>\n",
       "      <th>platform_os</th>\n",
       "      <th>browser</th>\n",
       "      <th>yes</th>\n",
       "      <th>no</th>\n",
       "    </tr>\n",
       "  </thead>\n",
       "  <tbody>\n",
       "    <tr>\n",
       "      <th>6225</th>\n",
       "      <td>c5c85ca1-1af4-4384-a625-b91b13825dc8</td>\n",
       "      <td>control</td>\n",
       "      <td>7/3/2020</td>\n",
       "      <td>15</td>\n",
       "      <td>Generic Smartphone</td>\n",
       "      <td>6</td>\n",
       "      <td>Chrome Mobile</td>\n",
       "      <td>0</td>\n",
       "      <td>1</td>\n",
       "    </tr>\n",
       "    <tr>\n",
       "      <th>3581</th>\n",
       "      <td>73bc733a-68c4-4d72-9b67-b4ae81e6e2ed</td>\n",
       "      <td>control</td>\n",
       "      <td>7/3/2020</td>\n",
       "      <td>15</td>\n",
       "      <td>Generic Smartphone</td>\n",
       "      <td>6</td>\n",
       "      <td>Chrome Mobile</td>\n",
       "      <td>1</td>\n",
       "      <td>0</td>\n",
       "    </tr>\n",
       "    <tr>\n",
       "      <th>7915</th>\n",
       "      <td>fa8ed69f-6b89-47d2-8ece-c5e1f4973207</td>\n",
       "      <td>control</td>\n",
       "      <td>7/4/2020</td>\n",
       "      <td>2</td>\n",
       "      <td>Samsung SM-G930F</td>\n",
       "      <td>6</td>\n",
       "      <td>Facebook</td>\n",
       "      <td>0</td>\n",
       "      <td>1</td>\n",
       "    </tr>\n",
       "  </tbody>\n",
       "</table>\n",
       "</div>"
      ],
      "text/plain": [
       "                                auction_id experiment      date  hour  \\\n",
       "6225  c5c85ca1-1af4-4384-a625-b91b13825dc8    control  7/3/2020    15   \n",
       "3581  73bc733a-68c4-4d72-9b67-b4ae81e6e2ed    control  7/3/2020    15   \n",
       "7915  fa8ed69f-6b89-47d2-8ece-c5e1f4973207    control  7/4/2020     2   \n",
       "\n",
       "             device_make  platform_os        browser  yes  no  \n",
       "6225  Generic Smartphone            6  Chrome Mobile    0   1  \n",
       "3581  Generic Smartphone            6  Chrome Mobile    1   0  \n",
       "7915    Samsung SM-G930F            6       Facebook    0   1  "
      ]
     },
     "execution_count": 62,
     "metadata": {},
     "output_type": "execute_result"
    }
   ],
   "source": [
    "#Within the data there are instances were a user was shown an ad but did not respond, these are denoted by a 0 in both 'yes' and 'no' coloumns. These instances are removed by creating a dataframe conditional upon there being a 1 in either the yes or no column \n",
    "\n",
    "df1 = df[(df['yes'] == 1 ) | (df['no'] == 1)] \n",
    "df1.sample(3)"
   ]
  },
  {
   "cell_type": "code",
   "execution_count": 63,
   "metadata": {},
   "outputs": [
    {
     "name": "stdout",
     "output_type": "stream",
     "text": [
      "There are 0 null values\n",
      "There are 0 duplicate values\n"
     ]
    }
   ],
   "source": [
    "nulls = df1.isna().sum().sum()     \n",
    "print(f'There are {nulls} null values')\n",
    "\n",
    "duplicate = (len(df1['auction_id'])) - df1['auction_id'].nunique()\n",
    "print(f'There are {duplicate} duplicate values')"
   ]
  },
  {
   "cell_type": "markdown",
   "metadata": {},
   "source": [
    "<u>Make It Bayesian</u>: Bayesian methodology requires a prior in order, this typical come some industry standard or user behavior before experiment. For the sake of this excercise we will use the data from the control users from the first month of experiment to create conversation rate and act as if that that prior."
   ]
  },
  {
   "cell_type": "code",
   "execution_count": 64,
   "metadata": {},
   "outputs": [
    {
     "name": "stderr",
     "output_type": "stream",
     "text": [
      "C:\\Users\\jrick\\AppData\\Local\\Temp\\ipykernel_34560\\2097110060.py:1: UserWarning: Boolean Series key will be reindexed to match DataFrame index.\n",
      "  bay = df1[(df1['date'] == '7/3/2020') & (df['experiment'] == 'control')]\n"
     ]
    },
    {
     "data": {
      "text/html": [
       "<div>\n",
       "<style scoped>\n",
       "    .dataframe tbody tr th:only-of-type {\n",
       "        vertical-align: middle;\n",
       "    }\n",
       "\n",
       "    .dataframe tbody tr th {\n",
       "        vertical-align: top;\n",
       "    }\n",
       "\n",
       "    .dataframe thead th {\n",
       "        text-align: right;\n",
       "    }\n",
       "</style>\n",
       "<table border=\"1\" class=\"dataframe\">\n",
       "  <thead>\n",
       "    <tr style=\"text-align: right;\">\n",
       "      <th></th>\n",
       "      <th>auction_id</th>\n",
       "      <th>experiment</th>\n",
       "      <th>date</th>\n",
       "      <th>hour</th>\n",
       "      <th>device_make</th>\n",
       "      <th>platform_os</th>\n",
       "      <th>browser</th>\n",
       "      <th>yes</th>\n",
       "      <th>no</th>\n",
       "    </tr>\n",
       "  </thead>\n",
       "  <tbody>\n",
       "    <tr>\n",
       "      <th>335</th>\n",
       "      <td>0a431ec7-b60a-44a2-8393-529489c6ce7f</td>\n",
       "      <td>control</td>\n",
       "      <td>7/3/2020</td>\n",
       "      <td>15</td>\n",
       "      <td>Generic Smartphone</td>\n",
       "      <td>6</td>\n",
       "      <td>Chrome Mobile</td>\n",
       "      <td>0</td>\n",
       "      <td>1</td>\n",
       "    </tr>\n",
       "    <tr>\n",
       "      <th>5966</th>\n",
       "      <td>bd482da7-6a70-4bca-ad47-786562d2d44e</td>\n",
       "      <td>control</td>\n",
       "      <td>7/3/2020</td>\n",
       "      <td>15</td>\n",
       "      <td>Generic Smartphone</td>\n",
       "      <td>6</td>\n",
       "      <td>Chrome Mobile</td>\n",
       "      <td>1</td>\n",
       "      <td>0</td>\n",
       "    </tr>\n",
       "    <tr>\n",
       "      <th>7226</th>\n",
       "      <td>e58ffe4a-df41-4b5a-a309-9b8d0ce64976</td>\n",
       "      <td>control</td>\n",
       "      <td>7/3/2020</td>\n",
       "      <td>15</td>\n",
       "      <td>Generic Smartphone</td>\n",
       "      <td>6</td>\n",
       "      <td>Chrome Mobile</td>\n",
       "      <td>0</td>\n",
       "      <td>1</td>\n",
       "    </tr>\n",
       "  </tbody>\n",
       "</table>\n",
       "</div>"
      ],
      "text/plain": [
       "                                auction_id experiment      date  hour  \\\n",
       "335   0a431ec7-b60a-44a2-8393-529489c6ce7f    control  7/3/2020    15   \n",
       "5966  bd482da7-6a70-4bca-ad47-786562d2d44e    control  7/3/2020    15   \n",
       "7226  e58ffe4a-df41-4b5a-a309-9b8d0ce64976    control  7/3/2020    15   \n",
       "\n",
       "             device_make  platform_os        browser  yes  no  \n",
       "335   Generic Smartphone            6  Chrome Mobile    0   1  \n",
       "5966  Generic Smartphone            6  Chrome Mobile    1   0  \n",
       "7226  Generic Smartphone            6  Chrome Mobile    0   1  "
      ]
     },
     "execution_count": 64,
     "metadata": {},
     "output_type": "execute_result"
    }
   ],
   "source": [
    "bay = df1[(df1['date'] == '7/3/2020') & (df['experiment'] == 'control')]\n",
    "bay.sample(3)"
   ]
  },
  {
   "cell_type": "code",
   "execution_count": 65,
   "metadata": {},
   "outputs": [
    {
     "data": {
      "text/plain": [
       "'Historically the conversion rate is 55% based on a data of 129 success and 104 failures'"
      ]
     },
     "execution_count": 65,
     "metadata": {},
     "output_type": "execute_result"
    }
   ],
   "source": [
    "prior=  bay['no'].sum()/bay['no'].count()\n",
    "prior_success = bay['no'].sum()\n",
    "prior_failure = bay['no'].count() - bay['no'].sum()\n",
    "\n",
    "f'Historically the conversion rate is {prior:.0%} based on a data of {prior_success} success and {prior_failure} failures'"
   ]
  },
  {
   "cell_type": "markdown",
   "metadata": {},
   "source": [
    "\n",
    "## A/B Test ##"
   ]
  },
  {
   "cell_type": "code",
   "execution_count": 66,
   "metadata": {},
   "outputs": [
    {
     "data": {
      "text/html": [
       "<div>\n",
       "<style scoped>\n",
       "    .dataframe tbody tr th:only-of-type {\n",
       "        vertical-align: middle;\n",
       "    }\n",
       "\n",
       "    .dataframe tbody tr th {\n",
       "        vertical-align: top;\n",
       "    }\n",
       "\n",
       "    .dataframe thead th {\n",
       "        text-align: right;\n",
       "    }\n",
       "</style>\n",
       "<table border=\"1\" class=\"dataframe\">\n",
       "  <thead>\n",
       "    <tr style=\"text-align: right;\">\n",
       "      <th></th>\n",
       "      <th>auction_id</th>\n",
       "      <th>experiment</th>\n",
       "      <th>date</th>\n",
       "      <th>hour</th>\n",
       "      <th>device_make</th>\n",
       "      <th>platform_os</th>\n",
       "      <th>browser</th>\n",
       "      <th>yes</th>\n",
       "      <th>no</th>\n",
       "    </tr>\n",
       "  </thead>\n",
       "  <tbody>\n",
       "    <tr>\n",
       "      <th>7286</th>\n",
       "      <td>e74adbd7-5403-45af-90a5-13be805ffbdf</td>\n",
       "      <td>exposed</td>\n",
       "      <td>7/4/2020</td>\n",
       "      <td>15</td>\n",
       "      <td>Generic Smartphone</td>\n",
       "      <td>6</td>\n",
       "      <td>Chrome Mobile</td>\n",
       "      <td>0</td>\n",
       "      <td>1</td>\n",
       "    </tr>\n",
       "    <tr>\n",
       "      <th>7322</th>\n",
       "      <td>e82e47bd-cbad-4994-8c80-0b34290db6bd</td>\n",
       "      <td>exposed</td>\n",
       "      <td>7/10/2020</td>\n",
       "      <td>8</td>\n",
       "      <td>Generic Smartphone</td>\n",
       "      <td>6</td>\n",
       "      <td>Chrome Mobile</td>\n",
       "      <td>1</td>\n",
       "      <td>0</td>\n",
       "    </tr>\n",
       "  </tbody>\n",
       "</table>\n",
       "</div>"
      ],
      "text/plain": [
       "                                auction_id experiment       date  hour  \\\n",
       "7286  e74adbd7-5403-45af-90a5-13be805ffbdf    exposed   7/4/2020    15   \n",
       "7322  e82e47bd-cbad-4994-8c80-0b34290db6bd    exposed  7/10/2020     8   \n",
       "\n",
       "             device_make  platform_os        browser  yes  no  \n",
       "7286  Generic Smartphone            6  Chrome Mobile    0   1  \n",
       "7322  Generic Smartphone            6  Chrome Mobile    1   0  "
      ]
     },
     "execution_count": 66,
     "metadata": {},
     "output_type": "execute_result"
    }
   ],
   "source": [
    "df1.sample(2)"
   ]
  },
  {
   "cell_type": "code",
   "execution_count": 67,
   "metadata": {},
   "outputs": [
    {
     "data": {
      "text/plain": [
       "'The control conversion rate is 45% and the exposed conversion rate is 47% indicating an increase of 2%'"
      ]
     },
     "execution_count": 67,
     "metadata": {},
     "output_type": "execute_result"
    }
   ],
   "source": [
    "control_df = df1[df1['experiment'] == 'control'] #seperate experiment into control and exposed dataframes\n",
    "exposed_df = df1[df1['experiment'] == 'exposed']\n",
    "\n",
    "\n",
    "control_conversion_rate = control_df['yes'].sum()/control_df['yes'].count()\n",
    "exposed_conversion_rate = exposed_df['yes'].sum()/exposed_df['yes'].count()\n",
    "\n",
    "f'The control conversion rate is {control_conversion_rate:.0%} and the exposed conversion rate is {exposed_conversion_rate:.0%} indicating an increase of {(exposed_conversion_rate) - (control_conversion_rate):.0%}'"
   ]
  },
  {
   "cell_type": "code",
   "execution_count": 68,
   "metadata": {},
   "outputs": [],
   "source": [
    "control_success = control_df['yes'].sum()\n",
    "control_failure = control_df['yes'].count() - control_success\n",
    "\n",
    "exposed_success = exposed_df['yes'].sum()\n",
    "exposed_failure = exposed_df['yes'].count() - exposed_success\n",
    "\n",
    "\n",
    "control_posterior = beta(prior_success + control_success, prior_failure + control_failure)\n",
    "exposed_posterior = beta(prior_success + exposed_success, prior_failure + exposed_failure)"
   ]
  },
  {
   "cell_type": "code",
   "execution_count": 69,
   "metadata": {},
   "outputs": [
    {
     "data": {
      "text/plain": [
       "'Comparision of samples of the control and '"
      ]
     },
     "execution_count": 69,
     "metadata": {},
     "output_type": "execute_result"
    }
   ],
   "source": [
    "control_sample = np.mean(control_posterior.rvs(100)) \n",
    "exposed_sample = np.mean(exposed_posterior.rvs(100))\n",
    "\n",
    "f'Comparision of samples of the control and '"
   ]
  },
  {
   "cell_type": "markdown",
   "metadata": {},
   "source": [
    "## Visualization ##"
   ]
  },
  {
   "cell_type": "code",
   "execution_count": 70,
   "metadata": {},
   "outputs": [
    {
     "data": {
      "image/png": "[encoded data removed]",
      "text/plain": [
       "<Figure size 720x504 with 1 Axes>"
      ]
     },
     "metadata": {
      "needs_background": "light"
     },
     "output_type": "display_data"
    }
   ],
   "source": [
    "\n",
    "control_alpha = prior_success + control_success\n",
    "control_beta = prior_failure + control_failure\n",
    "\n",
    "exposed_alpha = (prior_success + exposed_success)\n",
    "exposed_beta = (prior_failure + exposed_failure)\n",
    "\n",
    "alpha_values = [control_alpha, exposed_alpha]\n",
    "beta_values = [control_beta, control_beta]\n",
    "linestyles = ['-', '-']\n",
    "color = ['orange', 'blue']\n",
    "label = ['Control', 'Exposed']\n",
    "\n",
    "x = np.linspace(0, 1, 1002) [1:-1]\n",
    "\n",
    "fig, ax = plt.subplots(figsize = (10, 7))\n",
    "x = np.linspace(0,1, 1002)[1:-1]\n",
    "\n",
    "for a, b, ls, c, la in zip(alpha_values, beta_values, linestyles, color, label):\n",
    "    dist = beta(a, b)\n",
    "\n",
    "    plt.plot(x, dist.pdf(x), ls=ls, c = c, linewidth= 2 ) #wow lol\n",
    "\n",
    "plt.xlim(0,  1) \n",
    "plt.ylim(0, 30) \n",
    "\n",
    "plt.xlabel('$X$', size = 15)\n",
    "plt.ylabel('Density', size = 15)\n",
    "plt.title('Beta Distribution', size = 20)\n",
    "\n",
    "\n",
    "plt.legend( label)\n",
    "plt.show()\n",
    "\n"
   ]
  },
  {
   "cell_type": "markdown",
   "metadata": {},
   "source": [
    "### Monte Carlo ###"
   ]
  },
  {
   "cell_type": "code",
   "execution_count": 74,
   "metadata": {},
   "outputs": [
    {
     "data": {
      "text/plain": [
       "'While the exposed group had converstion rate 47% which was 2% higher than the 45%. We can say that only 32% that this due Ad being more effective'"
      ]
     },
     "execution_count": 74,
     "metadata": {},
     "output_type": "execute_result"
    }
   ],
   "source": [
    "probability  = np.mean((control_posterior.rvs(100)) > ((exposed_posterior.rvs(100))))\n",
    "\n",
    "f'While the exposed group had converstion rate {exposed_conversion_rate:.0%} which was {(exposed_conversion_rate) - (control_conversion_rate):.0%} higher than the {control_conversion_rate:.0%}. We can say that only {probability:.0%} that this due Ad being more effective'"
   ]
  }
 ],
 "metadata": {
  "kernelspec": {
   "display_name": "Python 3.9.13 64-bit (windows store)",
   "language": "python",
   "name": "python3"
  },
  "language_info": {
   "codemirror_mode": {
    "name": "ipython",
    "version": 3
   },
   "file_extension": ".py",
   "mimetype": "text/x-python",
   "name": "python",
   "nbconvert_exporter": "python",
   "pygments_lexer": "ipython3",
   "version": "3.9.13"
  },
  "orig_nbformat": 4,
  "vscode": {
   "interpreter": {
    "hash": "30fb55f82537a2b40570f3a17d5c10f8dd9ee29a28db40c4c7d2c6eec1ee76be"
   }
  }
 },
 "nbformat": 4,
 "nbformat_minor": 2
}
